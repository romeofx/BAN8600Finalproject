{
 "cells": [
  {
   "cell_type": "markdown",
   "id": "ae511748-2b85-48c6-9887-365a35e296f5",
   "metadata": {},
   "source": [
    "## Import libraries"
   ]
  },
  {
   "cell_type": "code",
   "execution_count": 2,
   "id": "e787a207-178b-489d-a7d5-c15755497c36",
   "metadata": {},
   "outputs": [],
   "source": [
    "import pandas as pd\n",
    "import numpy as np\n",
    "from sklearn.model_selection import train_test_split\n",
    "from sklearn.compose import ColumnTransformer\n",
    "from sklearn.linear_model import LinearRegression\n",
    "from sklearn.metrics import r2_score, mean_squared_error\n",
    "from sklearn.pipeline import Pipeline\n",
    "from sklearn.impute import SimpleImputer\n",
    "from sklearn.compose import ColumnTransformer\n",
    "from sklearn.preprocessing import OneHotEncoder, StandardScaler\n",
    "import pickle\n",
    "import joblib\n",
    "import matplotlib.pyplot as plt\n",
    "import seaborn as sns\n",
    "from math import sqrt"
   ]
  },
  {
   "cell_type": "markdown",
   "id": "dacc7aa5-5489-4f66-ae27-22b2f30a89ac",
   "metadata": {},
   "source": [
    "## Load dataset"
   ]
  },
  {
   "cell_type": "code",
   "execution_count": 3,
   "id": "7d543306-c743-4be8-8a29-294ed48a752d",
   "metadata": {},
   "outputs": [],
   "source": [
    "df = pd.read_csv(\"product.csv\")"
   ]
  },
  {
   "cell_type": "code",
   "execution_count": 4,
   "id": "9d021834-8c8e-4dfb-86e3-f38ed7e06635",
   "metadata": {},
   "outputs": [
    {
     "data": {
      "text/html": [
       "<div>\n",
       "<style scoped>\n",
       "    .dataframe tbody tr th:only-of-type {\n",
       "        vertical-align: middle;\n",
       "    }\n",
       "\n",
       "    .dataframe tbody tr th {\n",
       "        vertical-align: top;\n",
       "    }\n",
       "\n",
       "    .dataframe thead th {\n",
       "        text-align: right;\n",
       "    }\n",
       "</style>\n",
       "<table border=\"1\" class=\"dataframe\">\n",
       "  <thead>\n",
       "    <tr style=\"text-align: right;\">\n",
       "      <th></th>\n",
       "      <th>Product_ID</th>\n",
       "      <th>Category</th>\n",
       "      <th>Current_Price</th>\n",
       "      <th>Competitor_Price</th>\n",
       "      <th>Units_Sold</th>\n",
       "      <th>Customer_Satisfaction</th>\n",
       "      <th>Elasticity_Score</th>\n",
       "      <th>Marketing_Spend</th>\n",
       "      <th>Customer_Segment</th>\n",
       "      <th>Season</th>\n",
       "    </tr>\n",
       "  </thead>\n",
       "  <tbody>\n",
       "    <tr>\n",
       "      <th>0</th>\n",
       "      <td>P001</td>\n",
       "      <td>Electronics</td>\n",
       "      <td>241.55</td>\n",
       "      <td>148.01</td>\n",
       "      <td>481.0</td>\n",
       "      <td>1.9</td>\n",
       "      <td>-1.95</td>\n",
       "      <td>3555.74</td>\n",
       "      <td>Midrange</td>\n",
       "      <td>Fall</td>\n",
       "    </tr>\n",
       "    <tr>\n",
       "      <th>1</th>\n",
       "      <td>P002</td>\n",
       "      <td>Apparel</td>\n",
       "      <td>295.55</td>\n",
       "      <td>39.62</td>\n",
       "      <td>626.0</td>\n",
       "      <td>1.6</td>\n",
       "      <td>-0.02</td>\n",
       "      <td>7922.68</td>\n",
       "      <td>Budget</td>\n",
       "      <td>Summer</td>\n",
       "    </tr>\n",
       "    <tr>\n",
       "      <th>2</th>\n",
       "      <td>P003</td>\n",
       "      <td>Home</td>\n",
       "      <td>421.17</td>\n",
       "      <td>489.75</td>\n",
       "      <td>990.0</td>\n",
       "      <td>1.3</td>\n",
       "      <td>-0.19</td>\n",
       "      <td>2013.39</td>\n",
       "      <td>Premium</td>\n",
       "      <td>Summer</td>\n",
       "    </tr>\n",
       "    <tr>\n",
       "      <th>3</th>\n",
       "      <td>P004</td>\n",
       "      <td>Toys</td>\n",
       "      <td>11.44</td>\n",
       "      <td>364.11</td>\n",
       "      <td>705.0</td>\n",
       "      <td>3.0</td>\n",
       "      <td>-1.41</td>\n",
       "      <td>9607.84</td>\n",
       "      <td>Premium</td>\n",
       "      <td>Fall</td>\n",
       "    </tr>\n",
       "    <tr>\n",
       "      <th>4</th>\n",
       "      <td>P005</td>\n",
       "      <td>Beauty</td>\n",
       "      <td>230.03</td>\n",
       "      <td>12.23</td>\n",
       "      <td>548.0</td>\n",
       "      <td>3.3</td>\n",
       "      <td>-0.31</td>\n",
       "      <td>1527.47</td>\n",
       "      <td>Budget</td>\n",
       "      <td>Spring</td>\n",
       "    </tr>\n",
       "    <tr>\n",
       "      <th>5</th>\n",
       "      <td>P006</td>\n",
       "      <td>Electronics</td>\n",
       "      <td>294.62</td>\n",
       "      <td>374.91</td>\n",
       "      <td>143.0</td>\n",
       "      <td>2.9</td>\n",
       "      <td>-0.55</td>\n",
       "      <td>8059.98</td>\n",
       "      <td>Midrange</td>\n",
       "      <td>Spring</td>\n",
       "    </tr>\n",
       "    <tr>\n",
       "      <th>6</th>\n",
       "      <td>P007</td>\n",
       "      <td>Apparel</td>\n",
       "      <td>382.00</td>\n",
       "      <td>443.20</td>\n",
       "      <td>551.0</td>\n",
       "      <td>2.7</td>\n",
       "      <td>-1.71</td>\n",
       "      <td>1426.53</td>\n",
       "      <td>Budget</td>\n",
       "      <td>Winter</td>\n",
       "    </tr>\n",
       "    <tr>\n",
       "      <th>7</th>\n",
       "      <td>P008</td>\n",
       "      <td>Home</td>\n",
       "      <td>40.03</td>\n",
       "      <td>362.30</td>\n",
       "      <td>900.0</td>\n",
       "      <td>2.0</td>\n",
       "      <td>-2.30</td>\n",
       "      <td>1949.64</td>\n",
       "      <td>Premium</td>\n",
       "      <td>Winter</td>\n",
       "    </tr>\n",
       "    <tr>\n",
       "      <th>8</th>\n",
       "      <td>P009</td>\n",
       "      <td>Toys</td>\n",
       "      <td>313.61</td>\n",
       "      <td>336.39</td>\n",
       "      <td>691.0</td>\n",
       "      <td>1.9</td>\n",
       "      <td>-2.53</td>\n",
       "      <td>1142.80</td>\n",
       "      <td>Premium</td>\n",
       "      <td>Fall</td>\n",
       "    </tr>\n",
       "    <tr>\n",
       "      <th>9</th>\n",
       "      <td>P010</td>\n",
       "      <td>Beauty</td>\n",
       "      <td>404.20</td>\n",
       "      <td>91.46</td>\n",
       "      <td>436.0</td>\n",
       "      <td>4.4</td>\n",
       "      <td>-2.47</td>\n",
       "      <td>8064.04</td>\n",
       "      <td>Midrange</td>\n",
       "      <td>Fall</td>\n",
       "    </tr>\n",
       "  </tbody>\n",
       "</table>\n",
       "</div>"
      ],
      "text/plain": [
       "  Product_ID     Category  Current_Price  Competitor_Price  Units_Sold  \\\n",
       "0       P001  Electronics         241.55            148.01       481.0   \n",
       "1       P002      Apparel         295.55             39.62       626.0   \n",
       "2       P003         Home         421.17            489.75       990.0   \n",
       "3       P004         Toys          11.44            364.11       705.0   \n",
       "4       P005       Beauty         230.03             12.23       548.0   \n",
       "5       P006  Electronics         294.62            374.91       143.0   \n",
       "6       P007      Apparel         382.00            443.20       551.0   \n",
       "7       P008         Home          40.03            362.30       900.0   \n",
       "8       P009         Toys         313.61            336.39       691.0   \n",
       "9       P010       Beauty         404.20             91.46       436.0   \n",
       "\n",
       "   Customer_Satisfaction  Elasticity_Score  Marketing_Spend Customer_Segment  \\\n",
       "0                    1.9             -1.95          3555.74         Midrange   \n",
       "1                    1.6             -0.02          7922.68           Budget   \n",
       "2                    1.3             -0.19          2013.39          Premium   \n",
       "3                    3.0             -1.41          9607.84          Premium   \n",
       "4                    3.3             -0.31          1527.47           Budget   \n",
       "5                    2.9             -0.55          8059.98         Midrange   \n",
       "6                    2.7             -1.71          1426.53           Budget   \n",
       "7                    2.0             -2.30          1949.64          Premium   \n",
       "8                    1.9             -2.53          1142.80          Premium   \n",
       "9                    4.4             -2.47          8064.04         Midrange   \n",
       "\n",
       "   Season  \n",
       "0    Fall  \n",
       "1  Summer  \n",
       "2  Summer  \n",
       "3    Fall  \n",
       "4  Spring  \n",
       "5  Spring  \n",
       "6  Winter  \n",
       "7  Winter  \n",
       "8    Fall  \n",
       "9    Fall  "
      ]
     },
     "execution_count": 4,
     "metadata": {},
     "output_type": "execute_result"
    }
   ],
   "source": [
    "df.head(10)"
   ]
  },
  {
   "cell_type": "markdown",
   "id": "24265782-3d6a-4a48-bb0c-c32c877e6f10",
   "metadata": {},
   "source": [
    "## Exploratory Data Analysis"
   ]
  },
  {
   "cell_type": "code",
   "execution_count": 5,
   "id": "7a3a28f1-1e92-4dea-bea0-d0268e0face8",
   "metadata": {},
   "outputs": [
    {
     "data": {
      "text/plain": [
       "Product_ID                object\n",
       "Category                  object\n",
       "Current_Price            float64\n",
       "Competitor_Price         float64\n",
       "Units_Sold               float64\n",
       "Customer_Satisfaction    float64\n",
       "Elasticity_Score         float64\n",
       "Marketing_Spend          float64\n",
       "Customer_Segment          object\n",
       "Season                    object\n",
       "dtype: object"
      ]
     },
     "execution_count": 5,
     "metadata": {},
     "output_type": "execute_result"
    }
   ],
   "source": [
    "df.dtypes"
   ]
  },
  {
   "cell_type": "code",
   "execution_count": 6,
   "id": "72982525-0100-42f8-b82d-0581ebac0242",
   "metadata": {},
   "outputs": [
    {
     "data": {
      "text/plain": [
       "0      1.9\n",
       "1      1.6\n",
       "2      1.3\n",
       "3      3.0\n",
       "4      3.3\n",
       "      ... \n",
       "96     2.7\n",
       "97     1.2\n",
       "98     1.2\n",
       "99     3.1\n",
       "100    NaN\n",
       "Name: Customer_Satisfaction, Length: 101, dtype: float64"
      ]
     },
     "execution_count": 6,
     "metadata": {},
     "output_type": "execute_result"
    }
   ],
   "source": [
    "df.Customer_Satisfaction"
   ]
  },
  {
   "cell_type": "code",
   "execution_count": 7,
   "id": "8bc760ea-9e4f-4dbd-8568-344a0138a11e",
   "metadata": {},
   "outputs": [
    {
     "data": {
      "text/plain": [
       "0     -1.95\n",
       "1     -0.02\n",
       "2     -0.19\n",
       "3     -1.41\n",
       "4     -0.31\n",
       "       ... \n",
       "96    -1.70\n",
       "97    -0.92\n",
       "98    -2.23\n",
       "99    -1.54\n",
       "100     NaN\n",
       "Name: Elasticity_Score, Length: 101, dtype: float64"
      ]
     },
     "execution_count": 7,
     "metadata": {},
     "output_type": "execute_result"
    }
   ],
   "source": [
    "df.Elasticity_Score"
   ]
  },
  {
   "cell_type": "code",
   "execution_count": 8,
   "id": "a631b0d6-e8c4-4900-98c4-873b7b05f4d0",
   "metadata": {},
   "outputs": [
    {
     "data": {
      "text/plain": [
       "0      148.01\n",
       "1       39.62\n",
       "2      489.75\n",
       "3      364.11\n",
       "4       12.23\n",
       "        ...  \n",
       "96     418.35\n",
       "97     336.35\n",
       "98      77.38\n",
       "99     266.74\n",
       "100       NaN\n",
       "Name: Competitor_Price, Length: 101, dtype: float64"
      ]
     },
     "execution_count": 8,
     "metadata": {},
     "output_type": "execute_result"
    }
   ],
   "source": [
    "df.Competitor_Price\t"
   ]
  },
  {
   "cell_type": "code",
   "execution_count": 9,
   "id": "3992b536-781e-4d8f-90a2-f62782aef05d",
   "metadata": {},
   "outputs": [
    {
     "data": {
      "text/plain": [
       "<bound method DataFrame.sum of     Product_ID     Category  Current_Price  Competitor_Price  Units_Sold  \\\n",
       "0         P001  Electronics         241.55            148.01       481.0   \n",
       "1         P002      Apparel         295.55             39.62       626.0   \n",
       "2         P003         Home         421.17            489.75       990.0   \n",
       "3         P004         Toys          11.44            364.11       705.0   \n",
       "4         P005       Beauty         230.03             12.23       548.0   \n",
       "..         ...          ...            ...               ...         ...   \n",
       "96        P097      Apparel         113.37            418.35       978.0   \n",
       "97        P098         Home          59.34            336.35       209.0   \n",
       "98        P099         Toys         361.47             77.38       234.0   \n",
       "99        P100       Beauty         449.12            266.74       934.0   \n",
       "100        ...          NaN            NaN               NaN         NaN   \n",
       "\n",
       "     Customer_Satisfaction  Elasticity_Score  Marketing_Spend  \\\n",
       "0                      1.9             -1.95          3555.74   \n",
       "1                      1.6             -0.02          7922.68   \n",
       "2                      1.3             -0.19          2013.39   \n",
       "3                      3.0             -1.41          9607.84   \n",
       "4                      3.3             -0.31          1527.47   \n",
       "..                     ...               ...              ...   \n",
       "96                     2.7             -1.70          8814.05   \n",
       "97                     1.2             -0.92          1051.22   \n",
       "98                     1.2             -2.23          3841.33   \n",
       "99                     3.1             -1.54          2814.39   \n",
       "100                    NaN               NaN              NaN   \n",
       "\n",
       "    Customer_Segment  Season  \n",
       "0           Midrange    Fall  \n",
       "1             Budget  Summer  \n",
       "2            Premium  Summer  \n",
       "3            Premium    Fall  \n",
       "4             Budget  Spring  \n",
       "..               ...     ...  \n",
       "96            Budget  Summer  \n",
       "97           Premium    Fall  \n",
       "98            Budget  Summer  \n",
       "99           Premium  Winter  \n",
       "100              NaN     NaN  \n",
       "\n",
       "[101 rows x 10 columns]>"
      ]
     },
     "execution_count": 9,
     "metadata": {},
     "output_type": "execute_result"
    }
   ],
   "source": [
    "df.sum"
   ]
  },
  {
   "cell_type": "code",
   "execution_count": 10,
   "id": "473fed2c-47e6-4109-a99d-b2f5cd693197",
   "metadata": {},
   "outputs": [
    {
     "data": {
      "text/plain": [
       "<bound method DataFrame.min of     Product_ID     Category  Current_Price  Competitor_Price  Units_Sold  \\\n",
       "0         P001  Electronics         241.55            148.01       481.0   \n",
       "1         P002      Apparel         295.55             39.62       626.0   \n",
       "2         P003         Home         421.17            489.75       990.0   \n",
       "3         P004         Toys          11.44            364.11       705.0   \n",
       "4         P005       Beauty         230.03             12.23       548.0   \n",
       "..         ...          ...            ...               ...         ...   \n",
       "96        P097      Apparel         113.37            418.35       978.0   \n",
       "97        P098         Home          59.34            336.35       209.0   \n",
       "98        P099         Toys         361.47             77.38       234.0   \n",
       "99        P100       Beauty         449.12            266.74       934.0   \n",
       "100        ...          NaN            NaN               NaN         NaN   \n",
       "\n",
       "     Customer_Satisfaction  Elasticity_Score  Marketing_Spend  \\\n",
       "0                      1.9             -1.95          3555.74   \n",
       "1                      1.6             -0.02          7922.68   \n",
       "2                      1.3             -0.19          2013.39   \n",
       "3                      3.0             -1.41          9607.84   \n",
       "4                      3.3             -0.31          1527.47   \n",
       "..                     ...               ...              ...   \n",
       "96                     2.7             -1.70          8814.05   \n",
       "97                     1.2             -0.92          1051.22   \n",
       "98                     1.2             -2.23          3841.33   \n",
       "99                     3.1             -1.54          2814.39   \n",
       "100                    NaN               NaN              NaN   \n",
       "\n",
       "    Customer_Segment  Season  \n",
       "0           Midrange    Fall  \n",
       "1             Budget  Summer  \n",
       "2            Premium  Summer  \n",
       "3            Premium    Fall  \n",
       "4             Budget  Spring  \n",
       "..               ...     ...  \n",
       "96            Budget  Summer  \n",
       "97           Premium    Fall  \n",
       "98            Budget  Summer  \n",
       "99           Premium  Winter  \n",
       "100              NaN     NaN  \n",
       "\n",
       "[101 rows x 10 columns]>"
      ]
     },
     "execution_count": 10,
     "metadata": {},
     "output_type": "execute_result"
    }
   ],
   "source": [
    "df.min"
   ]
  },
  {
   "cell_type": "code",
   "execution_count": 11,
   "id": "191e4e0d-de74-48d0-a68b-97053f2a2b4d",
   "metadata": {},
   "outputs": [
    {
     "data": {
      "text/plain": [
       "<bound method DataFrame.isnull of     Product_ID     Category  Current_Price  Competitor_Price  Units_Sold  \\\n",
       "0         P001  Electronics         241.55            148.01       481.0   \n",
       "1         P002      Apparel         295.55             39.62       626.0   \n",
       "2         P003         Home         421.17            489.75       990.0   \n",
       "3         P004         Toys          11.44            364.11       705.0   \n",
       "4         P005       Beauty         230.03             12.23       548.0   \n",
       "..         ...          ...            ...               ...         ...   \n",
       "96        P097      Apparel         113.37            418.35       978.0   \n",
       "97        P098         Home          59.34            336.35       209.0   \n",
       "98        P099         Toys         361.47             77.38       234.0   \n",
       "99        P100       Beauty         449.12            266.74       934.0   \n",
       "100        ...          NaN            NaN               NaN         NaN   \n",
       "\n",
       "     Customer_Satisfaction  Elasticity_Score  Marketing_Spend  \\\n",
       "0                      1.9             -1.95          3555.74   \n",
       "1                      1.6             -0.02          7922.68   \n",
       "2                      1.3             -0.19          2013.39   \n",
       "3                      3.0             -1.41          9607.84   \n",
       "4                      3.3             -0.31          1527.47   \n",
       "..                     ...               ...              ...   \n",
       "96                     2.7             -1.70          8814.05   \n",
       "97                     1.2             -0.92          1051.22   \n",
       "98                     1.2             -2.23          3841.33   \n",
       "99                     3.1             -1.54          2814.39   \n",
       "100                    NaN               NaN              NaN   \n",
       "\n",
       "    Customer_Segment  Season  \n",
       "0           Midrange    Fall  \n",
       "1             Budget  Summer  \n",
       "2            Premium  Summer  \n",
       "3            Premium    Fall  \n",
       "4             Budget  Spring  \n",
       "..               ...     ...  \n",
       "96            Budget  Summer  \n",
       "97           Premium    Fall  \n",
       "98            Budget  Summer  \n",
       "99           Premium  Winter  \n",
       "100              NaN     NaN  \n",
       "\n",
       "[101 rows x 10 columns]>"
      ]
     },
     "execution_count": 11,
     "metadata": {},
     "output_type": "execute_result"
    }
   ],
   "source": [
    "df.isnull"
   ]
  },
  {
   "cell_type": "code",
   "execution_count": 12,
   "id": "73542cec-8c15-4132-b442-aa2e4a6c7b59",
   "metadata": {},
   "outputs": [
    {
     "data": {
      "text/plain": [
       "<Axes: ylabel='Count'>"
      ]
     },
     "execution_count": 12,
     "metadata": {},
     "output_type": "execute_result"
    },
    {
     "data": {
      "image/png": "[encoded data removed]",
      "text/plain": [
       "<Figure size 640x480 with 1 Axes>"
      ]
     },
     "metadata": {},
     "output_type": "display_data"
    }
   ],
   "source": [
    "sns.histplot([df.Competitor_Price, df.Current_Price], bins=50)"
   ]
  },
  {
   "cell_type": "code",
   "execution_count": 13,
   "id": "74d47810-3dde-4966-ac13-cb5e4d2df1f7",
   "metadata": {},
   "outputs": [
    {
     "data": {
      "text/plain": [
       "<Axes: xlabel='Units_Sold', ylabel='Count'>"
      ]
     },
     "execution_count": 13,
     "metadata": {},
     "output_type": "execute_result"
    },
    {
     "data": {
      "image/png": "[encoded data removed]",
      "text/plain": [
       "<Figure size 640x480 with 1 Axes>"
      ]
     },
     "metadata": {},
     "output_type": "display_data"
    }
   ],
   "source": [
    "sns.histplot(df.Units_Sold, bins=50)"
   ]
  },
  {
   "cell_type": "markdown",
   "id": "d6be7e57-e3a3-4631-918e-a1212f55a3d1",
   "metadata": {},
   "source": [
    "# Preprocessing: Remove rows with missing target"
   ]
  },
  {
   "cell_type": "code",
   "execution_count": 14,
   "id": "979c1d7e-874e-4fe9-bf9c-1fa0df66aec4",
   "metadata": {},
   "outputs": [],
   "source": [
    "df = df.dropna(subset=[\"Units_Sold\"])"
   ]
  },
  {
   "cell_type": "markdown",
   "id": "352d3f0e-f6bb-4716-b763-0e9bf3c4f981",
   "metadata": {},
   "source": [
    "# Define features and target"
   ]
  },
  {
   "cell_type": "code",
   "execution_count": 15,
   "id": "43e56cb1-9ead-4c00-b520-075a74bac898",
   "metadata": {},
   "outputs": [],
   "source": [
    "X = df.drop(\"Units_Sold\", axis=1)\n",
    "y = df[\"Units_Sold\"]"
   ]
  },
  {
   "cell_type": "markdown",
   "id": "68af4e24-0f1e-4b61-a7cc-6c1475162766",
   "metadata": {},
   "source": [
    "#  Identify column types"
   ]
  },
  {
   "cell_type": "code",
   "execution_count": 16,
   "id": "a539a6c7-5e9c-41d1-b1a3-228ed6320d8c",
   "metadata": {},
   "outputs": [],
   "source": [
    "numeric_features = [\"Current_Price\", \"Competitor_Price\", \"Customer_Satisfaction\", \"Elasticity_Score\", \"Marketing_Spend\"]\n",
    "categorical_features = [\"Category\", \"Customer_Segment\", \"Season\"]"
   ]
  },
  {
   "cell_type": "markdown",
   "id": "3837d23e-1306-4f60-932d-ee2e82d9f861",
   "metadata": {},
   "source": [
    "# Preprocessing pipeline"
   ]
  },
  {
   "cell_type": "code",
   "execution_count": 17,
   "id": "bc5ce005-c075-4066-a1e6-6141fc1c59fc",
   "metadata": {},
   "outputs": [],
   "source": [
    "preprocessor = ColumnTransformer(\n",
    "    transformers=[\n",
    "        (\"num\", StandardScaler(), numeric_features),\n",
    "        (\"cat\", OneHotEncoder(handle_unknown=\"ignore\"), categorical_features),\n",
    "    ]\n",
    ")"
   ]
  },
  {
   "cell_type": "markdown",
   "id": "ed5c01e8-4d83-4614-be5a-4e9a4477fbc0",
   "metadata": {},
   "source": [
    "# Create model pipeline"
   ]
  },
  {
   "cell_type": "code",
   "execution_count": 18,
   "id": "092ebb4d-abb6-451b-a7b8-912f0bb87f2b",
   "metadata": {},
   "outputs": [],
   "source": [
    "model_pipeline = Pipeline(steps=[\n",
    "    (\"preprocessor\", preprocessor),\n",
    "    (\"regressor\", LinearRegression())\n",
    "])"
   ]
  },
  {
   "cell_type": "markdown",
   "id": "16447117-1cb9-4a87-9c4c-8cb89857cb18",
   "metadata": {},
   "source": [
    "# Train/test split"
   ]
  },
  {
   "cell_type": "code",
   "execution_count": 19,
   "id": "09bae462-41aa-49e7-8c1a-2039ff25eaf1",
   "metadata": {},
   "outputs": [],
   "source": [
    "x_train, x_test, y_train, y_test = train_test_split(X, y, test_size=0.2, random_state=42)"
   ]
  },
  {
   "cell_type": "markdown",
   "id": "fd45315f-183c-45a4-82e2-f8e1f71dbe9e",
   "metadata": {},
   "source": [
    "# Train model"
   ]
  },
  {
   "cell_type": "code",
   "execution_count": 20,
   "id": "6d7ebc49-dc20-49c1-ba22-11995456d937",
   "metadata": {},
   "outputs": [
    {
     "data": {
      "text/html": [
       "<style>#sk-container-id-1 {\n",
       "  /* Definition of color scheme common for light and dark mode */\n",
       "  --sklearn-color-text: #000;\n",
       "  --sklearn-color-text-muted: #666;\n",
       "  --sklearn-color-line: gray;\n",
       "  /* Definition of color scheme for unfitted estimators */\n",
       "  --sklearn-color-unfitted-level-0: #fff5e6;\n",
       "  --sklearn-color-unfitted-level-1: #f6e4d2;\n",
       "  --sklearn-color-unfitted-level-2: #ffe0b3;\n",
       "  --sklearn-color-unfitted-level-3: chocolate;\n",
       "  /* Definition of color scheme for fitted estimators */\n",
       "  --sklearn-color-fitted-level-0: #f0f8ff;\n",
       "  --sklearn-color-fitted-level-1: #d4ebff;\n",
       "  --sklearn-color-fitted-level-2: #b3dbfd;\n",
       "  --sklearn-color-fitted-level-3: cornflowerblue;\n",
       "\n",
       "  /* Specific color for light theme */\n",
       "  --sklearn-color-text-on-default-background: var(--sg-text-color, var(--theme-code-foreground, var(--jp-content-font-color1, black)));\n",
       "  --sklearn-color-background: var(--sg-background-color, var(--theme-background, var(--jp-layout-color0, white)));\n",
       "  --sklearn-color-border-box: var(--sg-text-color, var(--theme-code-foreground, var(--jp-content-font-color1, black)));\n",
       "  --sklearn-color-icon: #696969;\n",
       "\n",
       "  @media (prefers-color-scheme: dark) {\n",
       "    /* Redefinition of color scheme for dark theme */\n",
       "    --sklearn-color-text-on-default-background: var(--sg-text-color, var(--theme-code-foreground, var(--jp-content-font-color1, white)));\n",
       "    --sklearn-color-background: var(--sg-background-color, var(--theme-background, var(--jp-layout-color0, #111)));\n",
       "    --sklearn-color-border-box: var(--sg-text-color, var(--theme-code-foreground, var(--jp-content-font-color1, white)));\n",
       "    --sklearn-color-icon: #878787;\n",
       "  }\n",
       "}\n",
       "\n",
       "#sk-container-id-1 {\n",
       "  color: var(--sklearn-color-text);\n",
       "}\n",
       "\n",
       "#sk-container-id-1 pre {\n",
       "  padding: 0;\n",
       "}\n",
       "\n",
       "#sk-container-id-1 input.sk-hidden--visually {\n",
       "  border: 0;\n",
       "  clip: rect(1px 1px 1px 1px);\n",
       "  clip: rect(1px, 1px, 1px, 1px);\n",
       "  height: 1px;\n",
       "  margin: -1px;\n",
       "  overflow: hidden;\n",
       "  padding: 0;\n",
       "  position: absolute;\n",
       "  width: 1px;\n",
       "}\n",
       "\n",
       "#sk-container-id-1 div.sk-dashed-wrapped {\n",
       "  border: 1px dashed var(--sklearn-color-line);\n",
       "  margin: 0 0.4em 0.5em 0.4em;\n",
       "  box-sizing: border-box;\n",
       "  padding-bottom: 0.4em;\n",
       "  background-color: var(--sklearn-color-background);\n",
       "}\n",
       "\n",
       "#sk-container-id-1 div.sk-container {\n",
       "  /* jupyter's `normalize.less` sets `[hidden] { display: none; }`\n",
       "     but bootstrap.min.css set `[hidden] { display: none !important; }`\n",
       "     so we also need the `!important` here to be able to override the\n",
       "     default hidden behavior on the sphinx rendered scikit-learn.org.\n",
       "     See: https://github.com/scikit-learn/scikit-learn/issues/21755 */\n",
       "  display: inline-block !important;\n",
       "  position: relative;\n",
       "}\n",
       "\n",
       "#sk-container-id-1 div.sk-text-repr-fallback {\n",
       "  display: none;\n",
       "}\n",
       "\n",
       "div.sk-parallel-item,\n",
       "div.sk-serial,\n",
       "div.sk-item {\n",
       "  /* draw centered vertical line to link estimators */\n",
       "  background-image: linear-gradient(var(--sklearn-color-text-on-default-background), var(--sklearn-color-text-on-default-background));\n",
       "  background-size: 2px 100%;\n",
       "  background-repeat: no-repeat;\n",
       "  background-position: center center;\n",
       "}\n",
       "\n",
       "/* Parallel-specific style estimator block */\n",
       "\n",
       "#sk-container-id-1 div.sk-parallel-item::after {\n",
       "  content: \"\";\n",
       "  width: 100%;\n",
       "  border-bottom: 2px solid var(--sklearn-color-text-on-default-background);\n",
       "  flex-grow: 1;\n",
       "}\n",
       "\n",
       "#sk-container-id-1 div.sk-parallel {\n",
       "  display: flex;\n",
       "  align-items: stretch;\n",
       "  justify-content: center;\n",
       "  background-color: var(--sklearn-color-background);\n",
       "  position: relative;\n",
       "}\n",
       "\n",
       "#sk-container-id-1 div.sk-parallel-item {\n",
       "  display: flex;\n",
       "  flex-direction: column;\n",
       "}\n",
       "\n",
       "#sk-container-id-1 div.sk-parallel-item:first-child::after {\n",
       "  align-self: flex-end;\n",
       "  width: 50%;\n",
       "}\n",
       "\n",
       "#sk-container-id-1 div.sk-parallel-item:last-child::after {\n",
       "  align-self: flex-start;\n",
       "  width: 50%;\n",
       "}\n",
       "\n",
       "#sk-container-id-1 div.sk-parallel-item:only-child::after {\n",
       "  width: 0;\n",
       "}\n",
       "\n",
       "/* Serial-specific style estimator block */\n",
       "\n",
       "#sk-container-id-1 div.sk-serial {\n",
       "  display: flex;\n",
       "  flex-direction: column;\n",
       "  align-items: center;\n",
       "  background-color: var(--sklearn-color-background);\n",
       "  padding-right: 1em;\n",
       "  padding-left: 1em;\n",
       "}\n",
       "\n",
       "\n",
       "/* Toggleable style: style used for estimator/Pipeline/ColumnTransformer box that is\n",
       "clickable and can be expanded/collapsed.\n",
       "- Pipeline and ColumnTransformer use this feature and define the default style\n",
       "- Estimators will overwrite some part of the style using the `sk-estimator` class\n",
       "*/\n",
       "\n",
       "/* Pipeline and ColumnTransformer style (default) */\n",
       "\n",
       "#sk-container-id-1 div.sk-toggleable {\n",
       "  /* Default theme specific background. It is overwritten whether we have a\n",
       "  specific estimator or a Pipeline/ColumnTransformer */\n",
       "  background-color: var(--sklearn-color-background);\n",
       "}\n",
       "\n",
       "/* Toggleable label */\n",
       "#sk-container-id-1 label.sk-toggleable__label {\n",
       "  cursor: pointer;\n",
       "  display: flex;\n",
       "  width: 100%;\n",
       "  margin-bottom: 0;\n",
       "  padding: 0.5em;\n",
       "  box-sizing: border-box;\n",
       "  text-align: center;\n",
       "  align-items: start;\n",
       "  justify-content: space-between;\n",
       "  gap: 0.5em;\n",
       "}\n",
       "\n",
       "#sk-container-id-1 label.sk-toggleable__label .caption {\n",
       "  font-size: 0.6rem;\n",
       "  font-weight: lighter;\n",
       "  color: var(--sklearn-color-text-muted);\n",
       "}\n",
       "\n",
       "#sk-container-id-1 label.sk-toggleable__label-arrow:before {\n",
       "  /* Arrow on the left of the label */\n",
       "  content: \"▸\";\n",
       "  float: left;\n",
       "  margin-right: 0.25em;\n",
       "  color: var(--sklearn-color-icon);\n",
       "}\n",
       "\n",
       "#sk-container-id-1 label.sk-toggleable__label-arrow:hover:before {\n",
       "  color: var(--sklearn-color-text);\n",
       "}\n",
       "\n",
       "/* Toggleable content - dropdown */\n",
       "\n",
       "#sk-container-id-1 div.sk-toggleable__content {\n",
       "  max-height: 0;\n",
       "  max-width: 0;\n",
       "  overflow: hidden;\n",
       "  text-align: left;\n",
       "  /* unfitted */\n",
       "  background-color: var(--sklearn-color-unfitted-level-0);\n",
       "}\n",
       "\n",
       "#sk-container-id-1 div.sk-toggleable__content.fitted {\n",
       "  /* fitted */\n",
       "  background-color: var(--sklearn-color-fitted-level-0);\n",
       "}\n",
       "\n",
       "#sk-container-id-1 div.sk-toggleable__content pre {\n",
       "  margin: 0.2em;\n",
       "  border-radius: 0.25em;\n",
       "  color: var(--sklearn-color-text);\n",
       "  /* unfitted */\n",
       "  background-color: var(--sklearn-color-unfitted-level-0);\n",
       "}\n",
       "\n",
       "#sk-container-id-1 div.sk-toggleable__content.fitted pre {\n",
       "  /* unfitted */\n",
       "  background-color: var(--sklearn-color-fitted-level-0);\n",
       "}\n",
       "\n",
       "#sk-container-id-1 input.sk-toggleable__control:checked~div.sk-toggleable__content {\n",
       "  /* Expand drop-down */\n",
       "  max-height: 200px;\n",
       "  max-width: 100%;\n",
       "  overflow: auto;\n",
       "}\n",
       "\n",
       "#sk-container-id-1 input.sk-toggleable__control:checked~label.sk-toggleable__label-arrow:before {\n",
       "  content: \"▾\";\n",
       "}\n",
       "\n",
       "/* Pipeline/ColumnTransformer-specific style */\n",
       "\n",
       "#sk-container-id-1 div.sk-label input.sk-toggleable__control:checked~label.sk-toggleable__label {\n",
       "  color: var(--sklearn-color-text);\n",
       "  background-color: var(--sklearn-color-unfitted-level-2);\n",
       "}\n",
       "\n",
       "#sk-container-id-1 div.sk-label.fitted input.sk-toggleable__control:checked~label.sk-toggleable__label {\n",
       "  background-color: var(--sklearn-color-fitted-level-2);\n",
       "}\n",
       "\n",
       "/* Estimator-specific style */\n",
       "\n",
       "/* Colorize estimator box */\n",
       "#sk-container-id-1 div.sk-estimator input.sk-toggleable__control:checked~label.sk-toggleable__label {\n",
       "  /* unfitted */\n",
       "  background-color: var(--sklearn-color-unfitted-level-2);\n",
       "}\n",
       "\n",
       "#sk-container-id-1 div.sk-estimator.fitted input.sk-toggleable__control:checked~label.sk-toggleable__label {\n",
       "  /* fitted */\n",
       "  background-color: var(--sklearn-color-fitted-level-2);\n",
       "}\n",
       "\n",
       "#sk-container-id-1 div.sk-label label.sk-toggleable__label,\n",
       "#sk-container-id-1 div.sk-label label {\n",
       "  /* The background is the default theme color */\n",
       "  color: var(--sklearn-color-text-on-default-background);\n",
       "}\n",
       "\n",
       "/* On hover, darken the color of the background */\n",
       "#sk-container-id-1 div.sk-label:hover label.sk-toggleable__label {\n",
       "  color: var(--sklearn-color-text);\n",
       "  background-color: var(--sklearn-color-unfitted-level-2);\n",
       "}\n",
       "\n",
       "/* Label box, darken color on hover, fitted */\n",
       "#sk-container-id-1 div.sk-label.fitted:hover label.sk-toggleable__label.fitted {\n",
       "  color: var(--sklearn-color-text);\n",
       "  background-color: var(--sklearn-color-fitted-level-2);\n",
       "}\n",
       "\n",
       "/* Estimator label */\n",
       "\n",
       "#sk-container-id-1 div.sk-label label {\n",
       "  font-family: monospace;\n",
       "  font-weight: bold;\n",
       "  display: inline-block;\n",
       "  line-height: 1.2em;\n",
       "}\n",
       "\n",
       "#sk-container-id-1 div.sk-label-container {\n",
       "  text-align: center;\n",
       "}\n",
       "\n",
       "/* Estimator-specific */\n",
       "#sk-container-id-1 div.sk-estimator {\n",
       "  font-family: monospace;\n",
       "  border: 1px dotted var(--sklearn-color-border-box);\n",
       "  border-radius: 0.25em;\n",
       "  box-sizing: border-box;\n",
       "  margin-bottom: 0.5em;\n",
       "  /* unfitted */\n",
       "  background-color: var(--sklearn-color-unfitted-level-0);\n",
       "}\n",
       "\n",
       "#sk-container-id-1 div.sk-estimator.fitted {\n",
       "  /* fitted */\n",
       "  background-color: var(--sklearn-color-fitted-level-0);\n",
       "}\n",
       "\n",
       "/* on hover */\n",
       "#sk-container-id-1 div.sk-estimator:hover {\n",
       "  /* unfitted */\n",
       "  background-color: var(--sklearn-color-unfitted-level-2);\n",
       "}\n",
       "\n",
       "#sk-container-id-1 div.sk-estimator.fitted:hover {\n",
       "  /* fitted */\n",
       "  background-color: var(--sklearn-color-fitted-level-2);\n",
       "}\n",
       "\n",
       "/* Specification for estimator info (e.g. \"i\" and \"?\") */\n",
       "\n",
       "/* Common style for \"i\" and \"?\" */\n",
       "\n",
       ".sk-estimator-doc-link,\n",
       "a:link.sk-estimator-doc-link,\n",
       "a:visited.sk-estimator-doc-link {\n",
       "  float: right;\n",
       "  font-size: smaller;\n",
       "  line-height: 1em;\n",
       "  font-family: monospace;\n",
       "  background-color: var(--sklearn-color-background);\n",
       "  border-radius: 1em;\n",
       "  height: 1em;\n",
       "  width: 1em;\n",
       "  text-decoration: none !important;\n",
       "  margin-left: 0.5em;\n",
       "  text-align: center;\n",
       "  /* unfitted */\n",
       "  border: var(--sklearn-color-unfitted-level-1) 1pt solid;\n",
       "  color: var(--sklearn-color-unfitted-level-1);\n",
       "}\n",
       "\n",
       ".sk-estimator-doc-link.fitted,\n",
       "a:link.sk-estimator-doc-link.fitted,\n",
       "a:visited.sk-estimator-doc-link.fitted {\n",
       "  /* fitted */\n",
       "  border: var(--sklearn-color-fitted-level-1) 1pt solid;\n",
       "  color: var(--sklearn-color-fitted-level-1);\n",
       "}\n",
       "\n",
       "/* On hover */\n",
       "div.sk-estimator:hover .sk-estimator-doc-link:hover,\n",
       ".sk-estimator-doc-link:hover,\n",
       "div.sk-label-container:hover .sk-estimator-doc-link:hover,\n",
       ".sk-estimator-doc-link:hover {\n",
       "  /* unfitted */\n",
       "  background-color: var(--sklearn-color-unfitted-level-3);\n",
       "  color: var(--sklearn-color-background);\n",
       "  text-decoration: none;\n",
       "}\n",
       "\n",
       "div.sk-estimator.fitted:hover .sk-estimator-doc-link.fitted:hover,\n",
       ".sk-estimator-doc-link.fitted:hover,\n",
       "div.sk-label-container:hover .sk-estimator-doc-link.fitted:hover,\n",
       ".sk-estimator-doc-link.fitted:hover {\n",
       "  /* fitted */\n",
       "  background-color: var(--sklearn-color-fitted-level-3);\n",
       "  color: var(--sklearn-color-background);\n",
       "  text-decoration: none;\n",
       "}\n",
       "\n",
       "/* Span, style for the box shown on hovering the info icon */\n",
       ".sk-estimator-doc-link span {\n",
       "  display: none;\n",
       "  z-index: 9999;\n",
       "  position: relative;\n",
       "  font-weight: normal;\n",
       "  right: .2ex;\n",
       "  padding: .5ex;\n",
       "  margin: .5ex;\n",
       "  width: min-content;\n",
       "  min-width: 20ex;\n",
       "  max-width: 50ex;\n",
       "  color: var(--sklearn-color-text);\n",
       "  box-shadow: 2pt 2pt 4pt #999;\n",
       "  /* unfitted */\n",
       "  background: var(--sklearn-color-unfitted-level-0);\n",
       "  border: .5pt solid var(--sklearn-color-unfitted-level-3);\n",
       "}\n",
       "\n",
       ".sk-estimator-doc-link.fitted span {\n",
       "  /* fitted */\n",
       "  background: var(--sklearn-color-fitted-level-0);\n",
       "  border: var(--sklearn-color-fitted-level-3);\n",
       "}\n",
       "\n",
       ".sk-estimator-doc-link:hover span {\n",
       "  display: block;\n",
       "}\n",
       "\n",
       "/* \"?\"-specific style due to the `<a>` HTML tag */\n",
       "\n",
       "#sk-container-id-1 a.estimator_doc_link {\n",
       "  float: right;\n",
       "  font-size: 1rem;\n",
       "  line-height: 1em;\n",
       "  font-family: monospace;\n",
       "  background-color: var(--sklearn-color-background);\n",
       "  border-radius: 1rem;\n",
       "  height: 1rem;\n",
       "  width: 1rem;\n",
       "  text-decoration: none;\n",
       "  /* unfitted */\n",
       "  color: var(--sklearn-color-unfitted-level-1);\n",
       "  border: var(--sklearn-color-unfitted-level-1) 1pt solid;\n",
       "}\n",
       "\n",
       "#sk-container-id-1 a.estimator_doc_link.fitted {\n",
       "  /* fitted */\n",
       "  border: var(--sklearn-color-fitted-level-1) 1pt solid;\n",
       "  color: var(--sklearn-color-fitted-level-1);\n",
       "}\n",
       "\n",
       "/* On hover */\n",
       "#sk-container-id-1 a.estimator_doc_link:hover {\n",
       "  /* unfitted */\n",
       "  background-color: var(--sklearn-color-unfitted-level-3);\n",
       "  color: var(--sklearn-color-background);\n",
       "  text-decoration: none;\n",
       "}\n",
       "\n",
       "#sk-container-id-1 a.estimator_doc_link.fitted:hover {\n",
       "  /* fitted */\n",
       "  background-color: var(--sklearn-color-fitted-level-3);\n",
       "}\n",
       "</style><div id=\"sk-container-id-1\" class=\"sk-top-container\"><div class=\"sk-text-repr-fallback\"><pre>Pipeline(steps=[(&#x27;preprocessor&#x27;,\n",
       "                 ColumnTransformer(transformers=[(&#x27;num&#x27;, StandardScaler(),\n",
       "                                                  [&#x27;Current_Price&#x27;,\n",
       "                                                   &#x27;Competitor_Price&#x27;,\n",
       "                                                   &#x27;Customer_Satisfaction&#x27;,\n",
       "                                                   &#x27;Elasticity_Score&#x27;,\n",
       "                                                   &#x27;Marketing_Spend&#x27;]),\n",
       "                                                 (&#x27;cat&#x27;,\n",
       "                                                  OneHotEncoder(handle_unknown=&#x27;ignore&#x27;),\n",
       "                                                  [&#x27;Category&#x27;,\n",
       "                                                   &#x27;Customer_Segment&#x27;,\n",
       "                                                   &#x27;Season&#x27;])])),\n",
       "                (&#x27;regressor&#x27;, LinearRegression())])</pre><b>In a Jupyter environment, please rerun this cell to show the HTML representation or trust the notebook. <br />On GitHub, the HTML representation is unable to render, please try loading this page with nbviewer.org.</b></div><div class=\"sk-container\" hidden><div class=\"sk-item sk-dashed-wrapped\"><div class=\"sk-label-container\"><div class=\"sk-label fitted sk-toggleable\"><input class=\"sk-toggleable__control sk-hidden--visually\" id=\"sk-estimator-id-1\" type=\"checkbox\" ><label for=\"sk-estimator-id-1\" class=\"sk-toggleable__label fitted sk-toggleable__label-arrow\"><div><div>Pipeline</div></div><div><a class=\"sk-estimator-doc-link fitted\" rel=\"noreferrer\" target=\"_blank\" href=\"https://scikit-learn.org/1.6/modules/generated/sklearn.pipeline.Pipeline.html\">?<span>Documentation for Pipeline</span></a><span class=\"sk-estimator-doc-link fitted\">i<span>Fitted</span></span></div></label><div class=\"sk-toggleable__content fitted\"><pre>Pipeline(steps=[(&#x27;preprocessor&#x27;,\n",
       "                 ColumnTransformer(transformers=[(&#x27;num&#x27;, StandardScaler(),\n",
       "                                                  [&#x27;Current_Price&#x27;,\n",
       "                                                   &#x27;Competitor_Price&#x27;,\n",
       "                                                   &#x27;Customer_Satisfaction&#x27;,\n",
       "                                                   &#x27;Elasticity_Score&#x27;,\n",
       "                                                   &#x27;Marketing_Spend&#x27;]),\n",
       "                                                 (&#x27;cat&#x27;,\n",
       "                                                  OneHotEncoder(handle_unknown=&#x27;ignore&#x27;),\n",
       "                                                  [&#x27;Category&#x27;,\n",
       "                                                   &#x27;Customer_Segment&#x27;,\n",
       "                                                   &#x27;Season&#x27;])])),\n",
       "                (&#x27;regressor&#x27;, LinearRegression())])</pre></div> </div></div><div class=\"sk-serial\"><div class=\"sk-item sk-dashed-wrapped\"><div class=\"sk-label-container\"><div class=\"sk-label fitted sk-toggleable\"><input class=\"sk-toggleable__control sk-hidden--visually\" id=\"sk-estimator-id-2\" type=\"checkbox\" ><label for=\"sk-estimator-id-2\" class=\"sk-toggleable__label fitted sk-toggleable__label-arrow\"><div><div>preprocessor: ColumnTransformer</div></div><div><a class=\"sk-estimator-doc-link fitted\" rel=\"noreferrer\" target=\"_blank\" href=\"https://scikit-learn.org/1.6/modules/generated/sklearn.compose.ColumnTransformer.html\">?<span>Documentation for preprocessor: ColumnTransformer</span></a></div></label><div class=\"sk-toggleable__content fitted\"><pre>ColumnTransformer(transformers=[(&#x27;num&#x27;, StandardScaler(),\n",
       "                                 [&#x27;Current_Price&#x27;, &#x27;Competitor_Price&#x27;,\n",
       "                                  &#x27;Customer_Satisfaction&#x27;, &#x27;Elasticity_Score&#x27;,\n",
       "                                  &#x27;Marketing_Spend&#x27;]),\n",
       "                                (&#x27;cat&#x27;, OneHotEncoder(handle_unknown=&#x27;ignore&#x27;),\n",
       "                                 [&#x27;Category&#x27;, &#x27;Customer_Segment&#x27;, &#x27;Season&#x27;])])</pre></div> </div></div><div class=\"sk-parallel\"><div class=\"sk-parallel-item\"><div class=\"sk-item\"><div class=\"sk-label-container\"><div class=\"sk-label fitted sk-toggleable\"><input class=\"sk-toggleable__control sk-hidden--visually\" id=\"sk-estimator-id-3\" type=\"checkbox\" ><label for=\"sk-estimator-id-3\" class=\"sk-toggleable__label fitted sk-toggleable__label-arrow\"><div><div>num</div></div></label><div class=\"sk-toggleable__content fitted\"><pre>[&#x27;Current_Price&#x27;, &#x27;Competitor_Price&#x27;, &#x27;Customer_Satisfaction&#x27;, &#x27;Elasticity_Score&#x27;, &#x27;Marketing_Spend&#x27;]</pre></div> </div></div><div class=\"sk-serial\"><div class=\"sk-item\"><div class=\"sk-estimator fitted sk-toggleable\"><input class=\"sk-toggleable__control sk-hidden--visually\" id=\"sk-estimator-id-4\" type=\"checkbox\" ><label for=\"sk-estimator-id-4\" class=\"sk-toggleable__label fitted sk-toggleable__label-arrow\"><div><div>StandardScaler</div></div><div><a class=\"sk-estimator-doc-link fitted\" rel=\"noreferrer\" target=\"_blank\" href=\"https://scikit-learn.org/1.6/modules/generated/sklearn.preprocessing.StandardScaler.html\">?<span>Documentation for StandardScaler</span></a></div></label><div class=\"sk-toggleable__content fitted\"><pre>StandardScaler()</pre></div> </div></div></div></div></div><div class=\"sk-parallel-item\"><div class=\"sk-item\"><div class=\"sk-label-container\"><div class=\"sk-label fitted sk-toggleable\"><input class=\"sk-toggleable__control sk-hidden--visually\" id=\"sk-estimator-id-5\" type=\"checkbox\" ><label for=\"sk-estimator-id-5\" class=\"sk-toggleable__label fitted sk-toggleable__label-arrow\"><div><div>cat</div></div></label><div class=\"sk-toggleable__content fitted\"><pre>[&#x27;Category&#x27;, &#x27;Customer_Segment&#x27;, &#x27;Season&#x27;]</pre></div> </div></div><div class=\"sk-serial\"><div class=\"sk-item\"><div class=\"sk-estimator fitted sk-toggleable\"><input class=\"sk-toggleable__control sk-hidden--visually\" id=\"sk-estimator-id-6\" type=\"checkbox\" ><label for=\"sk-estimator-id-6\" class=\"sk-toggleable__label fitted sk-toggleable__label-arrow\"><div><div>OneHotEncoder</div></div><div><a class=\"sk-estimator-doc-link fitted\" rel=\"noreferrer\" target=\"_blank\" href=\"https://scikit-learn.org/1.6/modules/generated/sklearn.preprocessing.OneHotEncoder.html\">?<span>Documentation for OneHotEncoder</span></a></div></label><div class=\"sk-toggleable__content fitted\"><pre>OneHotEncoder(handle_unknown=&#x27;ignore&#x27;)</pre></div> </div></div></div></div></div></div></div><div class=\"sk-item\"><div class=\"sk-estimator fitted sk-toggleable\"><input class=\"sk-toggleable__control sk-hidden--visually\" id=\"sk-estimator-id-7\" type=\"checkbox\" ><label for=\"sk-estimator-id-7\" class=\"sk-toggleable__label fitted sk-toggleable__label-arrow\"><div><div>LinearRegression</div></div><div><a class=\"sk-estimator-doc-link fitted\" rel=\"noreferrer\" target=\"_blank\" href=\"https://scikit-learn.org/1.6/modules/generated/sklearn.linear_model.LinearRegression.html\">?<span>Documentation for LinearRegression</span></a></div></label><div class=\"sk-toggleable__content fitted\"><pre>LinearRegression()</pre></div> </div></div></div></div></div></div>"
      ],
      "text/plain": [
       "Pipeline(steps=[('preprocessor',\n",
       "                 ColumnTransformer(transformers=[('num', StandardScaler(),\n",
       "                                                  ['Current_Price',\n",
       "                                                   'Competitor_Price',\n",
       "                                                   'Customer_Satisfaction',\n",
       "                                                   'Elasticity_Score',\n",
       "                                                   'Marketing_Spend']),\n",
       "                                                 ('cat',\n",
       "                                                  OneHotEncoder(handle_unknown='ignore'),\n",
       "                                                  ['Category',\n",
       "                                                   'Customer_Segment',\n",
       "                                                   'Season'])])),\n",
       "                ('regressor', LinearRegression())])"
      ]
     },
     "execution_count": 20,
     "metadata": {},
     "output_type": "execute_result"
    }
   ],
   "source": [
    "model_pipeline.fit(x_train, y_train)"
   ]
  },
  {
   "cell_type": "code",
   "execution_count": 21,
   "id": "1257a919-f126-46eb-98bb-6cda59f7f288",
   "metadata": {},
   "outputs": [
    {
     "name": "stdout",
     "output_type": "stream",
     "text": [
      "Model trained successfully.\n"
     ]
    }
   ],
   "source": [
    "print(\"Model trained successfully.\")"
   ]
  },
  {
   "cell_type": "markdown",
   "id": "7b1ab729-f2e3-42bc-aa23-fd18d04ab02c",
   "metadata": {},
   "source": [
    "# Evaluate model"
   ]
  },
  {
   "cell_type": "code",
   "execution_count": 22,
   "id": "e210901b-2df0-4873-8c4a-eafeb2785ea1",
   "metadata": {},
   "outputs": [
    {
     "name": "stdout",
     "output_type": "stream",
     "text": [
      "Validation RMSE: 320.03661082841313\n"
     ]
    }
   ],
   "source": [
    "y_pred = model_pipeline.predict(x_test)\n",
    "rmse = sqrt(mean_squared_error(y_test, y_pred))\n",
    "print(\"Validation RMSE:\", rmse)\n"
   ]
  },
  {
   "cell_type": "markdown",
   "id": "8d470cdc-9f95-4fd8-9ee9-077504d96092",
   "metadata": {},
   "source": [
    "### Manually compute RMSE"
   ]
  },
  {
   "cell_type": "code",
   "execution_count": 23,
   "id": "ddbaa751-ecde-4249-a325-9a1955617954",
   "metadata": {},
   "outputs": [],
   "source": [
    "#rmse = np.sqrt(mean_squared_error(y_val, val_preds))\n",
    "#print(\"Validation RMSE:\", rmse)"
   ]
  },
  {
   "cell_type": "markdown",
   "id": "97ec710a-d605-4db5-a051-4d59f180a78c",
   "metadata": {},
   "source": [
    "#  Save model"
   ]
  },
  {
   "cell_type": "code",
   "execution_count": 24,
   "id": "cefc63d8-fac0-428e-8937-9f63f3913286",
   "metadata": {},
   "outputs": [
    {
     "name": "stdout",
     "output_type": "stream",
     "text": [
      "Model saved to model_pipeline.pkl\n"
     ]
    }
   ],
   "source": [
    "joblib.dump(model_pipeline, \"model_pipeline.pkl\")\n",
    "print(\"Model saved to model_pipeline.pkl\")"
   ]
  },
  {
   "cell_type": "markdown",
   "id": "aa93b1d4-771d-4b6a-9808-c7801e8e37bf",
   "metadata": {},
   "source": [
    "#  Save expected features for later use"
   ]
  },
  {
   "cell_type": "code",
   "execution_count": 33,
   "id": "a9d1b645-37af-465d-ad5c-1eaa081715d6",
   "metadata": {},
   "outputs": [],
   "source": [
    "expected_features = model_pipeline.named_steps[\"preprocessor\"].get_feature_names_out()\n",
    "pd.Series(expected_features).to_csv(\"expected_features.csv\", index=False)"
   ]
  },
  {
   "cell_type": "code",
   "execution_count": 34,
   "id": "5aedb931-4f5f-46cc-8e29-ffee8be75969",
   "metadata": {},
   "outputs": [
    {
     "name": "stdout",
     "output_type": "stream",
     "text": [
      "Expected features saved to expected_features.csv\n"
     ]
    }
   ],
   "source": [
    "print(\"Expected features saved to expected_features.csv\")"
   ]
  },
  {
   "cell_type": "markdown",
   "id": "a39b7431-8f64-4862-a9f7-9c607214d7ce",
   "metadata": {},
   "source": [
    "#### Load model and test on new input"
   ]
  },
  {
   "cell_type": "code",
   "execution_count": 27,
   "id": "0a6a8225-7a88-482a-b0fa-26bb18049835",
   "metadata": {},
   "outputs": [],
   "source": [
    "model_pipeline = joblib.load(\"model_pipeline.pkl\")\n",
    "expected = pd.read_csv(\"expected_features.csv\", header=None)[0]"
   ]
  },
  {
   "cell_type": "markdown",
   "id": "5c1ebe37-ad41-4d76-a230-bcd09d1d5323",
   "metadata": {},
   "source": [
    " #### New input example"
   ]
  },
  {
   "cell_type": "code",
   "execution_count": 28,
   "id": "d37a1f95-2610-45e9-b055-3662dfc435c7",
   "metadata": {},
   "outputs": [],
   "source": [
    "new_input = {\n",
    "    \"Current_Price\": 150,\n",
    "    \"Competitor_Price\": 145,\n",
    "    \"Customer_Satisfaction\": 8,\n",
    "    \"Elasticity_Score\": 0.7,\n",
    "    \"Marketing_Spend\": 10000,\n",
    "    \"Category\": \"Electronics\",\n",
    "    \"Customer_Segment\": \"Premium\",\n",
    "    \"Season\": \"Summer\"\n",
    "}"
   ]
  },
  {
   "cell_type": "markdown",
   "id": "c52fb4a0-1a24-4357-8138-83a83cd55ecc",
   "metadata": {},
   "source": [
    "#### Convert new input to DataFrame"
   ]
  },
  {
   "cell_type": "code",
   "execution_count": 29,
   "id": "95cd91dc-0acf-4e36-866c-e0f6045b224e",
   "metadata": {},
   "outputs": [],
   "source": [
    "new_input_df = pd.DataFrame([new_input])"
   ]
  },
  {
   "cell_type": "markdown",
   "id": "52a63b8b-6379-469f-93ff-ed69a406d21f",
   "metadata": {},
   "source": [
    "#### Predict directly with the pipeline"
   ]
  },
  {
   "cell_type": "code",
   "execution_count": 30,
   "id": "db2d34b3-94ce-4786-ab0f-ef9a1da9acc0",
   "metadata": {},
   "outputs": [],
   "source": [
    "predicted_units = model_pipeline.predict(new_input_df)"
   ]
  },
  {
   "cell_type": "markdown",
   "id": "1636a38a-fba3-448d-af7f-345b2d841d39",
   "metadata": {},
   "source": [
    "#### Predict on new input"
   ]
  },
  {
   "cell_type": "code",
   "execution_count": 32,
   "id": "a2c3cca4-720f-434a-ba4d-67e0280db3af",
   "metadata": {},
   "outputs": [
    {
     "name": "stdout",
     "output_type": "stream",
     "text": [
      "Predicted Units Sold: 424.46088089125124\n"
     ]
    }
   ],
   "source": [
    "print(\"Predicted Units Sold:\", predicted_units[0])"
   ]
  },
  {
   "cell_type": "code",
   "execution_count": null,
   "id": "160033b4-c85d-460d-b39b-5a63b94cc3bc",
   "metadata": {},
   "outputs": [],
   "source": []
  },
  {
   "cell_type": "code",
   "execution_count": null,
   "id": "898577f8-4338-478e-93b6-951836e835cb",
   "metadata": {},
   "outputs": [],
   "source": []
  }
 ],
 "metadata": {
  "kernelspec": {
   "display_name": "Python 3 (ipykernel)",
   "language": "python",
   "name": "python3"
  },
  "language_info": {
   "codemirror_mode": {
    "name": "ipython",
    "version": 3
   },
   "file_extension": ".py",
   "mimetype": "text/x-python",
   "name": "python",
   "nbconvert_exporter": "python",
   "pygments_lexer": "ipython3",
   "version": "3.12.1"
  }
 },
 "nbformat": 4,
 "nbformat_minor": 5
}
